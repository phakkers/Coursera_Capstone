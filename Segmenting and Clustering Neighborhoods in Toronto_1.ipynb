{
    "nbformat_minor": 1, 
    "cells": [
        {
            "source": "Import all the necessary libraries", 
            "cell_type": "markdown", 
            "metadata": {}
        }, 
        {
            "execution_count": 1, 
            "cell_type": "code", 
            "metadata": {}, 
            "outputs": [], 
            "source": "import pandas as pd\nfrom bs4 import BeautifulSoup\nimport requests"
        }, 
        {
            "source": "Setting the Wiki URL and getting the raw html", 
            "cell_type": "markdown", 
            "metadata": {}
        }, 
        {
            "execution_count": 2, 
            "cell_type": "code", 
            "metadata": {}, 
            "outputs": [], 
            "source": "# WiKi URL\nurl = 'https://en.wikipedia.org/wiki/List_of_postal_codes_of_Canada:_M'\n\n# Scrape the URL and save the request text\nscraped_html = requests.get(url).text"
        }, 
        {
            "source": "Using BeautifulSoup to create an searchable object and find the table with the Toronto postalcodes", 
            "cell_type": "markdown", 
            "metadata": {}
        }, 
        {
            "execution_count": 3, 
            "cell_type": "code", 
            "metadata": {}, 
            "outputs": [], 
            "source": "# Create a soup object from the scraped HTML\nsoup = BeautifulSoup(scraped_html, 'lxml')\n\n# Searching for and setting the postalcode table\nTorontoPostalcodes = soup.find('table', class_='wikitable sortable')"
        }, 
        {
            "source": "After we get the data from WikiPedia we create two dataframes, one for the raw data and one for the cleaned data ", 
            "cell_type": "markdown", 
            "metadata": {}
        }, 
        {
            "execution_count": 4, 
            "cell_type": "code", 
            "metadata": {}, 
            "outputs": [], 
            "source": "# Creating a dataframe with the raw postalcodes\ndf = pd.read_html(TorontoPostalcodes.prettify(), flavor=['bs4'], header=0)[0]\n\n# Leaving the unassigned boroughs out\ndf = df[df.Borough != 'Not assigned']\n\n# Create a dataframe from the raw data and set the index to the Postcode \ndf_Postcodes = df.set_index('Postcode')\n\n# Removing duplicate entries from the Postcode dataframe\ndf_Postcodes = df_Postcodes[~df_Postcodes.index.duplicated(keep='first')]\n\n# Counting the number of occurances for each Postcode and adding it to the raw dataframe\ndf['freq'] = df.groupby('Postcode')['Postcode'].transform('count')\n\n# Reset the index of the raw dataframe\ndf = df.reset_index(drop=True)"
        }, 
        {
            "execution_count": 5, 
            "cell_type": "code", 
            "metadata": {}, 
            "outputs": [
                {
                    "execution_count": 5, 
                    "metadata": {}, 
                    "data": {
                        "text/html": "<div>\n<style scoped>\n    .dataframe tbody tr th:only-of-type {\n        vertical-align: middle;\n    }\n\n    .dataframe tbody tr th {\n        vertical-align: top;\n    }\n\n    .dataframe thead th {\n        text-align: right;\n    }\n</style>\n<table border=\"1\" class=\"dataframe\">\n  <thead>\n    <tr style=\"text-align: right;\">\n      <th></th>\n      <th>Borough</th>\n      <th>Neighbourhood</th>\n    </tr>\n    <tr>\n      <th>Postcode</th>\n      <th></th>\n      <th></th>\n    </tr>\n  </thead>\n  <tbody>\n    <tr>\n      <th>M3A</th>\n      <td>North York</td>\n      <td>Parkwoods</td>\n    </tr>\n    <tr>\n      <th>M4A</th>\n      <td>North York</td>\n      <td>Victoria Village</td>\n    </tr>\n    <tr>\n      <th>M5A</th>\n      <td>Downtown Toronto</td>\n      <td>Harbourfront</td>\n    </tr>\n    <tr>\n      <th>M6A</th>\n      <td>North York</td>\n      <td>Lawrence Heights</td>\n    </tr>\n    <tr>\n      <th>M7A</th>\n      <td>Queen's Park</td>\n      <td>Not assigned</td>\n    </tr>\n  </tbody>\n</table>\n</div>", 
                        "text/plain": "                   Borough     Neighbourhood\nPostcode                                    \nM3A             North York         Parkwoods\nM4A             North York  Victoria Village\nM5A       Downtown Toronto      Harbourfront\nM6A             North York  Lawrence Heights\nM7A           Queen's Park      Not assigned"
                    }, 
                    "output_type": "execute_result"
                }
            ], 
            "source": "# How are we doing so far?\ndf_Postcodes.head()"
        }, 
        {
            "source": "Only process the cells that have an assigned borough. Ignore cells with a borough that is Not assigned.\n\nMore than one neighborhood can exist in one postal code area. For example, in the table on the Wikipedia page, you will notice that M5A is listed twice and has two neighborhoods: Harbourfront and Regent Park. These two rows will be combined into one row with the neighborhoods separated with a comma as shown in row 11 in the above table.\n\nIf a cell has a borough but a Not assigned neighborhood, then the neighborhood will be the same as the borough. So for the 9th cell in the table on the Wikipedia page, the value of the Borough and the Neighborhood columns will be Queen's Park.", 
            "cell_type": "markdown", 
            "metadata": {}
        }, 
        {
            "execution_count": 6, 
            "cell_type": "code", 
            "metadata": {}, 
            "outputs": [], 
            "source": "# Loop the raw dataframe and replace the unassigned neighbourhoud to the corresponding borough\nfor index, row in df[df.Neighbourhood == 'Not assigned'].iterrows():\n    df.iloc[index, df.columns.get_loc('Neighbourhood')] = df.iloc[index, df.columns.get_loc('Borough')]\n\n# Loop the raw dataframe and add the neighbourhoods from duplicate postalcodes as a string value to the Postacode dataframe\nfor index, row in df[df.freq > 1].iterrows():\n    df_Postcodes.loc[row.Postcode]['Neighbourhood'] = str(df.loc[df['Postcode'] == row.Postcode]['Neighbourhood'].to_string(header=False, index=False)).replace('\\n', ',')\n"
        }, 
        {
            "execution_count": 7, 
            "cell_type": "code", 
            "metadata": {}, 
            "outputs": [], 
            "source": "# Reset the index for the Postalcode dataframe\ndf_Postcodes = df_Postcodes.reset_index()"
        }, 
        {
            "execution_count": 8, 
            "cell_type": "code", 
            "metadata": {
                "scrolled": true
            }, 
            "outputs": [
                {
                    "execution_count": 8, 
                    "metadata": {}, 
                    "data": {
                        "text/html": "<div>\n<style scoped>\n    .dataframe tbody tr th:only-of-type {\n        vertical-align: middle;\n    }\n\n    .dataframe tbody tr th {\n        vertical-align: top;\n    }\n\n    .dataframe thead th {\n        text-align: right;\n    }\n</style>\n<table border=\"1\" class=\"dataframe\">\n  <thead>\n    <tr style=\"text-align: right;\">\n      <th></th>\n      <th>Postcode</th>\n      <th>Borough</th>\n      <th>Neighbourhood</th>\n    </tr>\n  </thead>\n  <tbody>\n    <tr>\n      <th>0</th>\n      <td>M3A</td>\n      <td>North York</td>\n      <td>Parkwoods</td>\n    </tr>\n    <tr>\n      <th>1</th>\n      <td>M4A</td>\n      <td>North York</td>\n      <td>Victoria Village</td>\n    </tr>\n    <tr>\n      <th>2</th>\n      <td>M5A</td>\n      <td>Downtown Toronto</td>\n      <td>Harbourfront, Regent Park</td>\n    </tr>\n    <tr>\n      <th>3</th>\n      <td>M6A</td>\n      <td>North York</td>\n      <td>Lawrence Heights,  Lawrence Manor</td>\n    </tr>\n    <tr>\n      <th>4</th>\n      <td>M7A</td>\n      <td>Queen's Park</td>\n      <td>Not assigned</td>\n    </tr>\n  </tbody>\n</table>\n</div>", 
                        "text/plain": "  Postcode           Borough                      Neighbourhood\n0      M3A        North York                          Parkwoods\n1      M4A        North York                   Victoria Village\n2      M5A  Downtown Toronto          Harbourfront, Regent Park\n3      M6A        North York  Lawrence Heights,  Lawrence Manor\n4      M7A      Queen's Park                       Not assigned"
                    }, 
                    "output_type": "execute_result"
                }
            ], 
            "source": "# Show the cleaned dataframe head\ndf_Postcodes.head()"
        }, 
        {
            "source": "In the last cell of your notebook, use the .shape method to print the number of rows of your dataframe.", 
            "cell_type": "markdown", 
            "metadata": {}
        }, 
        {
            "execution_count": 9, 
            "cell_type": "code", 
            "metadata": {}, 
            "outputs": [
                {
                    "execution_count": 9, 
                    "metadata": {}, 
                    "data": {
                        "text/plain": "(103, 3)"
                    }, 
                    "output_type": "execute_result"
                }
            ], 
            "source": "# Display the shape of the final dataframe of Toronto's Postcodes from the WikiPedia page\ndf_Postcodes.shape"
        }
    ], 
    "metadata": {
        "kernelspec": {
            "display_name": "Python 3.5", 
            "name": "python3", 
            "language": "python"
        }, 
        "language_info": {
            "mimetype": "text/x-python", 
            "nbconvert_exporter": "python", 
            "version": "3.5.5", 
            "name": "python", 
            "file_extension": ".py", 
            "pygments_lexer": "ipython3", 
            "codemirror_mode": {
                "version": 3, 
                "name": "ipython"
            }
        }
    }, 
    "nbformat": 4
}