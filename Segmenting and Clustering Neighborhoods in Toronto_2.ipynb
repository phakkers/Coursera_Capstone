{
    "nbformat_minor": 1, 
    "cells": [
        {
            "source": "Import all the necessary libraries", 
            "cell_type": "markdown", 
            "metadata": {}
        }, 
        {
            "source": "import pandas as pd\nfrom bs4 import BeautifulSoup\nimport requests", 
            "cell_type": "code", 
            "metadata": {}, 
            "outputs": [], 
            "execution_count": 1
        }, 
        {
            "source": "Setting the Wiki URL and getting the raw html", 
            "cell_type": "markdown", 
            "metadata": {}
        }, 
        {
            "source": "# WiKi URL\nurl = 'https://en.wikipedia.org/wiki/List_of_postal_codes_of_Canada:_M'\n\n# Scrape the URL and save the request text\nscraped_html = requests.get(url).text", 
            "cell_type": "code", 
            "metadata": {}, 
            "outputs": [], 
            "execution_count": 2
        }, 
        {
            "source": "Using BeautifulSoup to create an searchable object and find the table with the Toronto postalcodes", 
            "cell_type": "markdown", 
            "metadata": {}
        }, 
        {
            "source": "# Create a soup object from the scraped HTML\nsoup = BeautifulSoup(scraped_html, 'lxml')\n\n# Searching for and setting the postalcode table\nTorontoPostalcodes = soup.find('table', class_='wikitable sortable')", 
            "cell_type": "code", 
            "metadata": {}, 
            "outputs": [], 
            "execution_count": 3
        }, 
        {
            "source": "After we get the data from WikiPedia we create two dataframes, one for the raw data and one for the cleaned data ", 
            "cell_type": "markdown", 
            "metadata": {}
        }, 
        {
            "source": "# Creating a dataframe with the raw postalcodes\ndf = pd.read_html(TorontoPostalcodes.prettify(), flavor=['bs4'], header=0)[0]\n\n# Leaving the unassigned boroughs out\ndf = df[df.Borough != 'Not assigned']\n\n# Create a dataframe from the raw data and set the index to the Postcode \ndf_Postcodes = df.set_index('Postcode')\n\n# Removing duplicate entries from the Postcode dataframe\ndf_Postcodes = df_Postcodes[~df_Postcodes.index.duplicated(keep='first')]\n\n# Counting the number of occurances for each Postcode and adding it to the raw dataframe\ndf['freq'] = df.groupby('Postcode')['Postcode'].transform('count')\n\n# Reset the index of the raw dataframe\ndf = df.reset_index(drop=True)", 
            "cell_type": "code", 
            "metadata": {}, 
            "outputs": [], 
            "execution_count": 4
        }, 
        {
            "source": "# How are we doing so far?\ndf_Postcodes.head()", 
            "cell_type": "code", 
            "metadata": {}, 
            "outputs": [
                {
                    "output_type": "execute_result", 
                    "data": {
                        "text/html": "<div>\n<style scoped>\n    .dataframe tbody tr th:only-of-type {\n        vertical-align: middle;\n    }\n\n    .dataframe tbody tr th {\n        vertical-align: top;\n    }\n\n    .dataframe thead th {\n        text-align: right;\n    }\n</style>\n<table border=\"1\" class=\"dataframe\">\n  <thead>\n    <tr style=\"text-align: right;\">\n      <th></th>\n      <th>Borough</th>\n      <th>Neighbourhood</th>\n    </tr>\n    <tr>\n      <th>Postcode</th>\n      <th></th>\n      <th></th>\n    </tr>\n  </thead>\n  <tbody>\n    <tr>\n      <th>M3A</th>\n      <td>North York</td>\n      <td>Parkwoods</td>\n    </tr>\n    <tr>\n      <th>M4A</th>\n      <td>North York</td>\n      <td>Victoria Village</td>\n    </tr>\n    <tr>\n      <th>M5A</th>\n      <td>Downtown Toronto</td>\n      <td>Harbourfront</td>\n    </tr>\n    <tr>\n      <th>M6A</th>\n      <td>North York</td>\n      <td>Lawrence Heights</td>\n    </tr>\n    <tr>\n      <th>M7A</th>\n      <td>Queen's Park</td>\n      <td>Not assigned</td>\n    </tr>\n  </tbody>\n</table>\n</div>", 
                        "text/plain": "                   Borough     Neighbourhood\nPostcode                                    \nM3A             North York         Parkwoods\nM4A             North York  Victoria Village\nM5A       Downtown Toronto      Harbourfront\nM6A             North York  Lawrence Heights\nM7A           Queen's Park      Not assigned"
                    }, 
                    "execution_count": 5, 
                    "metadata": {}
                }
            ], 
            "execution_count": 5
        }, 
        {
            "source": "Only process the cells that have an assigned borough. Ignore cells with a borough that is Not assigned.\n\nMore than one neighborhood can exist in one postal code area. For example, in the table on the Wikipedia page, you will notice that M5A is listed twice and has two neighborhoods: Harbourfront and Regent Park. These two rows will be combined into one row with the neighborhoods separated with a comma as shown in row 11 in the above table.\n\nIf a cell has a borough but a Not assigned neighborhood, then the neighborhood will be the same as the borough. So for the 9th cell in the table on the Wikipedia page, the value of the Borough and the Neighborhood columns will be Queen's Park.", 
            "cell_type": "markdown", 
            "metadata": {}
        }, 
        {
            "source": "# Loop the raw dataframe and replace the unassigned neighbourhoud to the corresponding borough\nfor index, row in df[df.Neighbourhood == 'Not assigned'].iterrows():\n    df.iloc[index, df.columns.get_loc('Neighbourhood')] = df.iloc[index, df.columns.get_loc('Borough')]\n\n# Loop the raw dataframe and add the neighbourhoods from duplicate postalcodes as a string value to the Postacode dataframe\nfor index, row in df[df.freq > 1].iterrows():\n    df_Postcodes.loc[row.Postcode]['Neighbourhood'] = str(df.loc[df['Postcode'] == row.Postcode]['Neighbourhood'].to_string(header=False, index=False)).replace('\\n', ',')\n", 
            "cell_type": "code", 
            "metadata": {}, 
            "outputs": [], 
            "execution_count": 6
        }, 
        {
            "source": "# Reset the index for the Postalcode dataframe\ndf_Postcodes = df_Postcodes.reset_index()", 
            "cell_type": "code", 
            "metadata": {}, 
            "outputs": [], 
            "execution_count": 7
        }, 
        {
            "source": "# Show the cleaned dataframe head\ndf_Postcodes.head()", 
            "cell_type": "code", 
            "metadata": {
                "scrolled": true
            }, 
            "outputs": [
                {
                    "output_type": "execute_result", 
                    "data": {
                        "text/html": "<div>\n<style scoped>\n    .dataframe tbody tr th:only-of-type {\n        vertical-align: middle;\n    }\n\n    .dataframe tbody tr th {\n        vertical-align: top;\n    }\n\n    .dataframe thead th {\n        text-align: right;\n    }\n</style>\n<table border=\"1\" class=\"dataframe\">\n  <thead>\n    <tr style=\"text-align: right;\">\n      <th></th>\n      <th>Postcode</th>\n      <th>Borough</th>\n      <th>Neighbourhood</th>\n    </tr>\n  </thead>\n  <tbody>\n    <tr>\n      <th>0</th>\n      <td>M3A</td>\n      <td>North York</td>\n      <td>Parkwoods</td>\n    </tr>\n    <tr>\n      <th>1</th>\n      <td>M4A</td>\n      <td>North York</td>\n      <td>Victoria Village</td>\n    </tr>\n    <tr>\n      <th>2</th>\n      <td>M5A</td>\n      <td>Downtown Toronto</td>\n      <td>Harbourfront, Regent Park</td>\n    </tr>\n    <tr>\n      <th>3</th>\n      <td>M6A</td>\n      <td>North York</td>\n      <td>Lawrence Heights,  Lawrence Manor</td>\n    </tr>\n    <tr>\n      <th>4</th>\n      <td>M7A</td>\n      <td>Queen's Park</td>\n      <td>Not assigned</td>\n    </tr>\n  </tbody>\n</table>\n</div>", 
                        "text/plain": "  Postcode           Borough                      Neighbourhood\n0      M3A        North York                          Parkwoods\n1      M4A        North York                   Victoria Village\n2      M5A  Downtown Toronto          Harbourfront, Regent Park\n3      M6A        North York  Lawrence Heights,  Lawrence Manor\n4      M7A      Queen's Park                       Not assigned"
                    }, 
                    "execution_count": 8, 
                    "metadata": {}
                }
            ], 
            "execution_count": 8
        }, 
        {
            "source": "In the last cell of your notebook, use the .shape method to print the number of rows of your dataframe.", 
            "cell_type": "markdown", 
            "metadata": {}
        }, 
        {
            "source": "# Display the shape of the final dataframe of Toronto's Postcodes from the WikiPedia page\ndf_Postcodes.shape", 
            "cell_type": "code", 
            "metadata": {}, 
            "outputs": [
                {
                    "output_type": "execute_result", 
                    "data": {
                        "text/plain": "(103, 3)"
                    }, 
                    "execution_count": 9, 
                    "metadata": {}
                }
            ], 
            "execution_count": 9
        }, 
        {
            "source": "Now Geocode the Postcode dataframe", 
            "cell_type": "markdown", 
            "metadata": {}
        }, 
        {
            "source": "# First we install the geocode package \n#!conda install -c conda-forge geocoder", 
            "cell_type": "code", 
            "metadata": {}, 
            "outputs": [], 
            "execution_count": 10
        }, 
        {
            "source": "# Then we import it\n#import geocoder # import geocoder", 
            "cell_type": "code", 
            "metadata": {}, 
            "outputs": [], 
            "execution_count": 11
        }, 
        {
            "source": "df_Postcodes.head()", 
            "cell_type": "code", 
            "metadata": {}, 
            "outputs": [
                {
                    "output_type": "execute_result", 
                    "data": {
                        "text/html": "<div>\n<style scoped>\n    .dataframe tbody tr th:only-of-type {\n        vertical-align: middle;\n    }\n\n    .dataframe tbody tr th {\n        vertical-align: top;\n    }\n\n    .dataframe thead th {\n        text-align: right;\n    }\n</style>\n<table border=\"1\" class=\"dataframe\">\n  <thead>\n    <tr style=\"text-align: right;\">\n      <th></th>\n      <th>Postcode</th>\n      <th>Borough</th>\n      <th>Neighbourhood</th>\n    </tr>\n  </thead>\n  <tbody>\n    <tr>\n      <th>0</th>\n      <td>M3A</td>\n      <td>North York</td>\n      <td>Parkwoods</td>\n    </tr>\n    <tr>\n      <th>1</th>\n      <td>M4A</td>\n      <td>North York</td>\n      <td>Victoria Village</td>\n    </tr>\n    <tr>\n      <th>2</th>\n      <td>M5A</td>\n      <td>Downtown Toronto</td>\n      <td>Harbourfront, Regent Park</td>\n    </tr>\n    <tr>\n      <th>3</th>\n      <td>M6A</td>\n      <td>North York</td>\n      <td>Lawrence Heights,  Lawrence Manor</td>\n    </tr>\n    <tr>\n      <th>4</th>\n      <td>M7A</td>\n      <td>Queen's Park</td>\n      <td>Not assigned</td>\n    </tr>\n  </tbody>\n</table>\n</div>", 
                        "text/plain": "  Postcode           Borough                      Neighbourhood\n0      M3A        North York                          Parkwoods\n1      M4A        North York                   Victoria Village\n2      M5A  Downtown Toronto          Harbourfront, Regent Park\n3      M6A        North York  Lawrence Heights,  Lawrence Manor\n4      M7A      Queen's Park                       Not assigned"
                    }, 
                    "execution_count": 12, 
                    "metadata": {}
                }
            ], 
            "execution_count": 12
        }, 
        {
            "source": "df_Postcodes = df_Postcodes.set_index('Postcode')", 
            "cell_type": "code", 
            "metadata": {}, 
            "outputs": [], 
            "execution_count": 13
        }, 
        {
            "source": "# Add Lat and Lng columns and set to default 0\ndf_Postcodes['Latitude'] = ''\ndf_Postcodes['Longitude'] = ''", 
            "cell_type": "code", 
            "metadata": {}, 
            "outputs": [], 
            "execution_count": 14
        }, 
        {
            "source": "As stated in the assignment the geocoder is very unreliable; no result came. So using the .csv instead.", 
            "cell_type": "markdown", 
            "metadata": {}
        }, 
        {
            "source": "# # initialize your variable to None\n# lat_lng_coords = None\n\n# # loop until you get the coordinates\n# for index, row in df_Postcodes.iterrows():\n#     postcode = index\n#     print(postcode)\n#     while(lat_lng_coords is None):\n#         g = geocoder.google('{}, Toronto, Ontario'.format(postcode))\n#         lat_lng_coords = g.latlng\n#     print(lat_lng_coords)\n\n#     # Add the found coordinates to the Postcode dataframe\n#     df_Postcodes[postcode]['latitude'] = lat_lng_coords[0]\n#     df_Postcodes[postcode]['longitude'] = lat_lng_coords[1]", 
            "cell_type": "code", 
            "metadata": {}, 
            "outputs": [], 
            "execution_count": 15
        }, 
        {
            "source": "csv_geocoder = pd.read_csv('https://cocl.us/Geospatial_data')\ncsv_geocoder = csv_geocoder.set_index('Postal Code')", 
            "cell_type": "code", 
            "metadata": {}, 
            "outputs": [], 
            "execution_count": 16
        }, 
        {
            "source": "for index, row in df_Postcodes.iterrows():\n    postcode = index\n    df_Postcodes.loc[postcode]['Latitude'] = csv_geocoder.loc[postcode]['Latitude']\n    df_Postcodes.loc[postcode]['Longitude'] = csv_geocoder.loc[postcode]['Longitude']\n    ", 
            "cell_type": "code", 
            "metadata": {}, 
            "outputs": [], 
            "execution_count": 17
        }, 
        {
            "source": "df_Postcodes", 
            "cell_type": "code", 
            "metadata": {}, 
            "outputs": [
                {
                    "output_type": "execute_result", 
                    "data": {
                        "text/html": "<div>\n<style scoped>\n    .dataframe tbody tr th:only-of-type {\n        vertical-align: middle;\n    }\n\n    .dataframe tbody tr th {\n        vertical-align: top;\n    }\n\n    .dataframe thead th {\n        text-align: right;\n    }\n</style>\n<table border=\"1\" class=\"dataframe\">\n  <thead>\n    <tr style=\"text-align: right;\">\n      <th></th>\n      <th>Borough</th>\n      <th>Neighbourhood</th>\n      <th>Latitude</th>\n      <th>Longitude</th>\n    </tr>\n    <tr>\n      <th>Postcode</th>\n      <th></th>\n      <th></th>\n      <th></th>\n      <th></th>\n    </tr>\n  </thead>\n  <tbody>\n    <tr>\n      <th>M3A</th>\n      <td>North York</td>\n      <td>Parkwoods</td>\n      <td>43.7533</td>\n      <td>-79.3297</td>\n    </tr>\n    <tr>\n      <th>M4A</th>\n      <td>North York</td>\n      <td>Victoria Village</td>\n      <td>43.7259</td>\n      <td>-79.3156</td>\n    </tr>\n    <tr>\n      <th>M5A</th>\n      <td>Downtown Toronto</td>\n      <td>Harbourfront, Regent Park</td>\n      <td>43.6543</td>\n      <td>-79.3606</td>\n    </tr>\n    <tr>\n      <th>M6A</th>\n      <td>North York</td>\n      <td>Lawrence Heights,  Lawrence Manor</td>\n      <td>43.7185</td>\n      <td>-79.4648</td>\n    </tr>\n    <tr>\n      <th>M7A</th>\n      <td>Queen's Park</td>\n      <td>Not assigned</td>\n      <td>43.6623</td>\n      <td>-79.3895</td>\n    </tr>\n    <tr>\n      <th>M9A</th>\n      <td>Etobicoke</td>\n      <td>Islington Avenue</td>\n      <td>43.6679</td>\n      <td>-79.5322</td>\n    </tr>\n    <tr>\n      <th>M1B</th>\n      <td>Scarborough</td>\n      <td>Rouge,Malvern</td>\n      <td>43.8067</td>\n      <td>-79.1944</td>\n    </tr>\n    <tr>\n      <th>M3B</th>\n      <td>North York</td>\n      <td>Don Mills North</td>\n      <td>43.7459</td>\n      <td>-79.3522</td>\n    </tr>\n    <tr>\n      <th>M4B</th>\n      <td>East York</td>\n      <td>Woodbine Gardens,   Parkview Hill</td>\n      <td>43.7064</td>\n      <td>-79.3099</td>\n    </tr>\n    <tr>\n      <th>M5B</th>\n      <td>Downtown Toronto</td>\n      <td>Ryerson,Garden District</td>\n      <td>43.6572</td>\n      <td>-79.3789</td>\n    </tr>\n    <tr>\n      <th>M6B</th>\n      <td>North York</td>\n      <td>Glencairn</td>\n      <td>43.7096</td>\n      <td>-79.4451</td>\n    </tr>\n    <tr>\n      <th>M9B</th>\n      <td>Etobicoke</td>\n      <td>Cloverdale,       Islington,    Martin Grove,P...</td>\n      <td>43.6509</td>\n      <td>-79.5547</td>\n    </tr>\n    <tr>\n      <th>M1C</th>\n      <td>Scarborough</td>\n      <td>Highland Creek,    Rouge Hill,    Port Union</td>\n      <td>43.7845</td>\n      <td>-79.1605</td>\n    </tr>\n    <tr>\n      <th>M3C</th>\n      <td>North York</td>\n      <td>Flemingdon Park,Don Mills South</td>\n      <td>43.7259</td>\n      <td>-79.3409</td>\n    </tr>\n    <tr>\n      <th>M4C</th>\n      <td>East York</td>\n      <td>Woodbine Heights</td>\n      <td>43.6953</td>\n      <td>-79.3184</td>\n    </tr>\n    <tr>\n      <th>M5C</th>\n      <td>Downtown Toronto</td>\n      <td>St. James Town</td>\n      <td>43.6515</td>\n      <td>-79.3754</td>\n    </tr>\n    <tr>\n      <th>M6C</th>\n      <td>York</td>\n      <td>Humewood-Cedarvale</td>\n      <td>43.6938</td>\n      <td>-79.4282</td>\n    </tr>\n    <tr>\n      <th>M9C</th>\n      <td>Etobicoke</td>\n      <td>Bloordale Gardens,         Eringate,    Markla...</td>\n      <td>43.6435</td>\n      <td>-79.5772</td>\n    </tr>\n    <tr>\n      <th>M1E</th>\n      <td>Scarborough</td>\n      <td>Guildwood,Morningside,  West Hill</td>\n      <td>43.7636</td>\n      <td>-79.1887</td>\n    </tr>\n    <tr>\n      <th>M4E</th>\n      <td>East Toronto</td>\n      <td>The Beaches</td>\n      <td>43.6764</td>\n      <td>-79.293</td>\n    </tr>\n    <tr>\n      <th>M5E</th>\n      <td>Downtown Toronto</td>\n      <td>Berczy Park</td>\n      <td>43.6448</td>\n      <td>-79.3733</td>\n    </tr>\n    <tr>\n      <th>M6E</th>\n      <td>York</td>\n      <td>Caledonia-Fairbanks</td>\n      <td>43.689</td>\n      <td>-79.4535</td>\n    </tr>\n    <tr>\n      <th>M1G</th>\n      <td>Scarborough</td>\n      <td>Woburn</td>\n      <td>43.771</td>\n      <td>-79.2169</td>\n    </tr>\n    <tr>\n      <th>M4G</th>\n      <td>East York</td>\n      <td>Leaside</td>\n      <td>43.7091</td>\n      <td>-79.3635</td>\n    </tr>\n    <tr>\n      <th>M5G</th>\n      <td>Downtown Toronto</td>\n      <td>Central Bay Street</td>\n      <td>43.658</td>\n      <td>-79.3874</td>\n    </tr>\n    <tr>\n      <th>M6G</th>\n      <td>Downtown Toronto</td>\n      <td>Christie</td>\n      <td>43.6695</td>\n      <td>-79.4226</td>\n    </tr>\n    <tr>\n      <th>M1H</th>\n      <td>Scarborough</td>\n      <td>Cedarbrae</td>\n      <td>43.7731</td>\n      <td>-79.2395</td>\n    </tr>\n    <tr>\n      <th>M2H</th>\n      <td>North York</td>\n      <td>Hillcrest Village</td>\n      <td>43.8038</td>\n      <td>-79.3635</td>\n    </tr>\n    <tr>\n      <th>M3H</th>\n      <td>North York</td>\n      <td>Bathurst Manor,Downsview North, Wilson Heights</td>\n      <td>43.7543</td>\n      <td>-79.4423</td>\n    </tr>\n    <tr>\n      <th>M4H</th>\n      <td>East York</td>\n      <td>Thorncliffe Park</td>\n      <td>43.7054</td>\n      <td>-79.3494</td>\n    </tr>\n    <tr>\n      <th>...</th>\n      <td>...</td>\n      <td>...</td>\n      <td>...</td>\n      <td>...</td>\n    </tr>\n    <tr>\n      <th>M4R</th>\n      <td>Central Toronto</td>\n      <td>North Toronto West</td>\n      <td>43.7154</td>\n      <td>-79.4057</td>\n    </tr>\n    <tr>\n      <th>M5R</th>\n      <td>Central Toronto</td>\n      <td>The Annex,North Midtown,    Yorkville</td>\n      <td>43.6727</td>\n      <td>-79.4057</td>\n    </tr>\n    <tr>\n      <th>M6R</th>\n      <td>West Toronto</td>\n      <td>Parkdale,Roncesvalles</td>\n      <td>43.649</td>\n      <td>-79.4563</td>\n    </tr>\n    <tr>\n      <th>M7R</th>\n      <td>Mississauga</td>\n      <td>Canada Post Gateway Processing Centre</td>\n      <td>43.637</td>\n      <td>-79.6158</td>\n    </tr>\n    <tr>\n      <th>M9R</th>\n      <td>Etobicoke</td>\n      <td>Kingsview Village,Martin Grove Gardens,    Ric...</td>\n      <td>43.6889</td>\n      <td>-79.5547</td>\n    </tr>\n    <tr>\n      <th>M1S</th>\n      <td>Scarborough</td>\n      <td>Agincourt</td>\n      <td>43.7942</td>\n      <td>-79.262</td>\n    </tr>\n    <tr>\n      <th>M4S</th>\n      <td>Central Toronto</td>\n      <td>Davisville</td>\n      <td>43.7043</td>\n      <td>-79.3888</td>\n    </tr>\n    <tr>\n      <th>M5S</th>\n      <td>Downtown Toronto</td>\n      <td>Harbord,University of Toronto</td>\n      <td>43.6627</td>\n      <td>-79.4</td>\n    </tr>\n    <tr>\n      <th>M6S</th>\n      <td>West Toronto</td>\n      <td>Runnymede,  Swansea</td>\n      <td>43.6516</td>\n      <td>-79.4844</td>\n    </tr>\n    <tr>\n      <th>M1T</th>\n      <td>Scarborough</td>\n      <td>Clarks Corners,      Sullivan, Tam O'Shanter</td>\n      <td>43.7816</td>\n      <td>-79.3043</td>\n    </tr>\n    <tr>\n      <th>M4T</th>\n      <td>Central Toronto</td>\n      <td>Moore Park,Summerhill East</td>\n      <td>43.6896</td>\n      <td>-79.3832</td>\n    </tr>\n    <tr>\n      <th>M5T</th>\n      <td>Downtown Toronto</td>\n      <td>Chinatown,      Grange Park,Kensington Market</td>\n      <td>43.6532</td>\n      <td>-79.4</td>\n    </tr>\n    <tr>\n      <th>M1V</th>\n      <td>Scarborough</td>\n      <td>Agincourt North,L'Amoreaux East,       Millike...</td>\n      <td>43.8153</td>\n      <td>-79.2846</td>\n    </tr>\n    <tr>\n      <th>M4V</th>\n      <td>Central Toronto</td>\n      <td>Deer Park, Forest Hill SE,      Rathnelly,    ...</td>\n      <td>43.6864</td>\n      <td>-79.4</td>\n    </tr>\n    <tr>\n      <th>M5V</th>\n      <td>Downtown Toronto</td>\n      <td>CN Tower,    Bathurst Quay,   Island airport,H...</td>\n      <td>43.6289</td>\n      <td>-79.3944</td>\n    </tr>\n    <tr>\n      <th>M8V</th>\n      <td>Etobicoke</td>\n      <td>Humber Bay Shores,     Mimico South,      New ...</td>\n      <td>43.6056</td>\n      <td>-79.5013</td>\n    </tr>\n    <tr>\n      <th>M9V</th>\n      <td>Etobicoke</td>\n      <td>Albion Gardens,Beaumond Heights,      Humberga...</td>\n      <td>43.7394</td>\n      <td>-79.5884</td>\n    </tr>\n    <tr>\n      <th>M1W</th>\n      <td>Scarborough</td>\n      <td>L'Amoreaux West</td>\n      <td>43.7995</td>\n      <td>-79.3184</td>\n    </tr>\n    <tr>\n      <th>M4W</th>\n      <td>Downtown Toronto</td>\n      <td>Rosedale</td>\n      <td>43.6796</td>\n      <td>-79.3775</td>\n    </tr>\n    <tr>\n      <th>M5W</th>\n      <td>Downtown Toronto</td>\n      <td>Stn A PO Boxes 25 The Esplanade</td>\n      <td>43.6464</td>\n      <td>-79.3748</td>\n    </tr>\n    <tr>\n      <th>M8W</th>\n      <td>Etobicoke</td>\n      <td>Alderwood,Long Branch</td>\n      <td>43.6024</td>\n      <td>-79.5435</td>\n    </tr>\n    <tr>\n      <th>M9W</th>\n      <td>Etobicoke</td>\n      <td>Northwest</td>\n      <td>43.7067</td>\n      <td>-79.5941</td>\n    </tr>\n    <tr>\n      <th>M1X</th>\n      <td>Scarborough</td>\n      <td>Upper Rouge</td>\n      <td>43.8361</td>\n      <td>-79.2056</td>\n    </tr>\n    <tr>\n      <th>M4X</th>\n      <td>Downtown Toronto</td>\n      <td>Cabbagetown,St. James Town</td>\n      <td>43.668</td>\n      <td>-79.3677</td>\n    </tr>\n    <tr>\n      <th>M5X</th>\n      <td>Downtown Toronto</td>\n      <td>First Canadian Place,    Underground city</td>\n      <td>43.6484</td>\n      <td>-79.3823</td>\n    </tr>\n    <tr>\n      <th>M8X</th>\n      <td>Etobicoke</td>\n      <td>The Kingsway,Montgomery Road, Old Mill North</td>\n      <td>43.6537</td>\n      <td>-79.5069</td>\n    </tr>\n    <tr>\n      <th>M4Y</th>\n      <td>Downtown Toronto</td>\n      <td>Church and Wellesley</td>\n      <td>43.6659</td>\n      <td>-79.3832</td>\n    </tr>\n    <tr>\n      <th>M7Y</th>\n      <td>East Toronto</td>\n      <td>Business Reply Mail Processing Centre 969 Eastern</td>\n      <td>43.6627</td>\n      <td>-79.3216</td>\n    </tr>\n    <tr>\n      <th>M8Y</th>\n      <td>Etobicoke</td>\n      <td>Humber Bay,        King's Mill Park,Kingsway P...</td>\n      <td>43.6363</td>\n      <td>-79.4985</td>\n    </tr>\n    <tr>\n      <th>M8Z</th>\n      <td>Etobicoke</td>\n      <td>Kingsway Park South West,               Mimico...</td>\n      <td>43.6288</td>\n      <td>-79.521</td>\n    </tr>\n  </tbody>\n</table>\n<p>103 rows \u00d7 4 columns</p>\n</div>", 
                        "text/plain": "                   Borough                                      Neighbourhood  \\\nPostcode                                                                        \nM3A             North York                                          Parkwoods   \nM4A             North York                                   Victoria Village   \nM5A       Downtown Toronto                          Harbourfront, Regent Park   \nM6A             North York                  Lawrence Heights,  Lawrence Manor   \nM7A           Queen's Park                                       Not assigned   \nM9A              Etobicoke                                   Islington Avenue   \nM1B            Scarborough                                      Rouge,Malvern   \nM3B             North York                                    Don Mills North   \nM4B              East York                  Woodbine Gardens,   Parkview Hill   \nM5B       Downtown Toronto                            Ryerson,Garden District   \nM6B             North York                                          Glencairn   \nM9B              Etobicoke  Cloverdale,       Islington,    Martin Grove,P...   \nM1C            Scarborough       Highland Creek,    Rouge Hill,    Port Union   \nM3C             North York                    Flemingdon Park,Don Mills South   \nM4C              East York                                   Woodbine Heights   \nM5C       Downtown Toronto                                     St. James Town   \nM6C                   York                                 Humewood-Cedarvale   \nM9C              Etobicoke  Bloordale Gardens,         Eringate,    Markla...   \nM1E            Scarborough                  Guildwood,Morningside,  West Hill   \nM4E           East Toronto                                        The Beaches   \nM5E       Downtown Toronto                                        Berczy Park   \nM6E                   York                                Caledonia-Fairbanks   \nM1G            Scarborough                                             Woburn   \nM4G              East York                                            Leaside   \nM5G       Downtown Toronto                                 Central Bay Street   \nM6G       Downtown Toronto                                           Christie   \nM1H            Scarborough                                          Cedarbrae   \nM2H             North York                                  Hillcrest Village   \nM3H             North York     Bathurst Manor,Downsview North, Wilson Heights   \nM4H              East York                                   Thorncliffe Park   \n...                    ...                                                ...   \nM4R        Central Toronto                                 North Toronto West   \nM5R        Central Toronto              The Annex,North Midtown,    Yorkville   \nM6R           West Toronto                              Parkdale,Roncesvalles   \nM7R            Mississauga              Canada Post Gateway Processing Centre   \nM9R              Etobicoke  Kingsview Village,Martin Grove Gardens,    Ric...   \nM1S            Scarborough                                          Agincourt   \nM4S        Central Toronto                                         Davisville   \nM5S       Downtown Toronto                      Harbord,University of Toronto   \nM6S           West Toronto                                Runnymede,  Swansea   \nM1T            Scarborough       Clarks Corners,      Sullivan, Tam O'Shanter   \nM4T        Central Toronto                         Moore Park,Summerhill East   \nM5T       Downtown Toronto      Chinatown,      Grange Park,Kensington Market   \nM1V            Scarborough  Agincourt North,L'Amoreaux East,       Millike...   \nM4V        Central Toronto  Deer Park, Forest Hill SE,      Rathnelly,    ...   \nM5V       Downtown Toronto  CN Tower,    Bathurst Quay,   Island airport,H...   \nM8V              Etobicoke  Humber Bay Shores,     Mimico South,      New ...   \nM9V              Etobicoke  Albion Gardens,Beaumond Heights,      Humberga...   \nM1W            Scarborough                                    L'Amoreaux West   \nM4W       Downtown Toronto                                           Rosedale   \nM5W       Downtown Toronto                    Stn A PO Boxes 25 The Esplanade   \nM8W              Etobicoke                              Alderwood,Long Branch   \nM9W              Etobicoke                                          Northwest   \nM1X            Scarborough                                        Upper Rouge   \nM4X       Downtown Toronto                         Cabbagetown,St. James Town   \nM5X       Downtown Toronto          First Canadian Place,    Underground city   \nM8X              Etobicoke       The Kingsway,Montgomery Road, Old Mill North   \nM4Y       Downtown Toronto                               Church and Wellesley   \nM7Y           East Toronto  Business Reply Mail Processing Centre 969 Eastern   \nM8Y              Etobicoke  Humber Bay,        King's Mill Park,Kingsway P...   \nM8Z              Etobicoke  Kingsway Park South West,               Mimico...   \n\n         Latitude Longitude  \nPostcode                     \nM3A       43.7533  -79.3297  \nM4A       43.7259  -79.3156  \nM5A       43.6543  -79.3606  \nM6A       43.7185  -79.4648  \nM7A       43.6623  -79.3895  \nM9A       43.6679  -79.5322  \nM1B       43.8067  -79.1944  \nM3B       43.7459  -79.3522  \nM4B       43.7064  -79.3099  \nM5B       43.6572  -79.3789  \nM6B       43.7096  -79.4451  \nM9B       43.6509  -79.5547  \nM1C       43.7845  -79.1605  \nM3C       43.7259  -79.3409  \nM4C       43.6953  -79.3184  \nM5C       43.6515  -79.3754  \nM6C       43.6938  -79.4282  \nM9C       43.6435  -79.5772  \nM1E       43.7636  -79.1887  \nM4E       43.6764   -79.293  \nM5E       43.6448  -79.3733  \nM6E        43.689  -79.4535  \nM1G        43.771  -79.2169  \nM4G       43.7091  -79.3635  \nM5G        43.658  -79.3874  \nM6G       43.6695  -79.4226  \nM1H       43.7731  -79.2395  \nM2H       43.8038  -79.3635  \nM3H       43.7543  -79.4423  \nM4H       43.7054  -79.3494  \n...           ...       ...  \nM4R       43.7154  -79.4057  \nM5R       43.6727  -79.4057  \nM6R        43.649  -79.4563  \nM7R        43.637  -79.6158  \nM9R       43.6889  -79.5547  \nM1S       43.7942   -79.262  \nM4S       43.7043  -79.3888  \nM5S       43.6627     -79.4  \nM6S       43.6516  -79.4844  \nM1T       43.7816  -79.3043  \nM4T       43.6896  -79.3832  \nM5T       43.6532     -79.4  \nM1V       43.8153  -79.2846  \nM4V       43.6864     -79.4  \nM5V       43.6289  -79.3944  \nM8V       43.6056  -79.5013  \nM9V       43.7394  -79.5884  \nM1W       43.7995  -79.3184  \nM4W       43.6796  -79.3775  \nM5W       43.6464  -79.3748  \nM8W       43.6024  -79.5435  \nM9W       43.7067  -79.5941  \nM1X       43.8361  -79.2056  \nM4X        43.668  -79.3677  \nM5X       43.6484  -79.3823  \nM8X       43.6537  -79.5069  \nM4Y       43.6659  -79.3832  \nM7Y       43.6627  -79.3216  \nM8Y       43.6363  -79.4985  \nM8Z       43.6288   -79.521  \n\n[103 rows x 4 columns]"
                    }, 
                    "execution_count": 18, 
                    "metadata": {}
                }
            ], 
            "execution_count": 18
        }, 
        {
            "source": "", 
            "cell_type": "code", 
            "metadata": {}, 
            "outputs": [], 
            "execution_count": null
        }
    ], 
    "metadata": {
        "kernelspec": {
            "display_name": "Python 3.5", 
            "name": "python3", 
            "language": "python"
        }, 
        "language_info": {
            "mimetype": "text/x-python", 
            "nbconvert_exporter": "python", 
            "version": "3.5.5", 
            "name": "python", 
            "pygments_lexer": "ipython3", 
            "file_extension": ".py", 
            "codemirror_mode": {
                "version": 3, 
                "name": "ipython"
            }
        }
    }, 
    "nbformat": 4
}