{
    "nbformat_minor": 1, 
    "cells": [
        {
            "source": "Import all the necessary libraries", 
            "cell_type": "markdown", 
            "metadata": {}
        }, 
        {
            "execution_count": 1, 
            "cell_type": "code", 
            "metadata": {}, 
            "outputs": [], 
            "source": "import pandas as pd\nfrom bs4 import BeautifulSoup\nimport requests"
        }, 
        {
            "source": "Setting the Wiki URL and getting the raw html", 
            "cell_type": "markdown", 
            "metadata": {}
        }, 
        {
            "execution_count": 2, 
            "cell_type": "code", 
            "metadata": {}, 
            "outputs": [], 
            "source": "# WiKi URL\nurl = 'https://en.wikipedia.org/wiki/List_of_postal_codes_of_Canada:_M'\n\n# Scrape the URL and save the request text\nscraped_html = requests.get(url).text"
        }, 
        {
            "source": "Using BeautifulSoup to create an searchable object and find the table with the Toronto postalcodes", 
            "cell_type": "markdown", 
            "metadata": {}
        }, 
        {
            "execution_count": 3, 
            "cell_type": "code", 
            "metadata": {}, 
            "outputs": [], 
            "source": "# Create a soup object from the scraped HTML\nsoup = BeautifulSoup(scraped_html, 'lxml')\n\n# Searching for and setting the postalcode table\nTorontoPostalcodes = soup.find('table', class_='wikitable sortable')"
        }, 
        {
            "source": "After we get the data from WikiPedia we create two dataframes, one for the raw data and one for the cleaned data ", 
            "cell_type": "markdown", 
            "metadata": {}
        }, 
        {
            "execution_count": 4, 
            "cell_type": "code", 
            "metadata": {}, 
            "outputs": [], 
            "source": "# Creating a dataframe with the raw postalcodes\ndf = pd.read_html(TorontoPostalcodes.prettify(), flavor=['bs4'], header=0)[0]\n\n# Leaving the unassigned boroughs out\ndf = df[df.Borough != 'Not assigned']\n\n# Create a dataframe from the raw data and set the index to the Postcode \ndf_Postcodes = df.set_index('Postcode')\n\n# Removing duplicate entries from the Postcode dataframe\ndf_Postcodes = df_Postcodes[~df_Postcodes.index.duplicated(keep='first')]\n\n# Counting the number of occurances for each Postcode and adding it to the raw dataframe\ndf['freq'] = df.groupby('Postcode')['Postcode'].transform('count')\n\n# Reset the index of the raw dataframe\ndf = df.reset_index(drop=True)"
        }, 
        {
            "execution_count": 5, 
            "cell_type": "code", 
            "metadata": {}, 
            "outputs": [
                {
                    "execution_count": 5, 
                    "metadata": {}, 
                    "data": {
                        "text/html": "<div>\n<style scoped>\n    .dataframe tbody tr th:only-of-type {\n        vertical-align: middle;\n    }\n\n    .dataframe tbody tr th {\n        vertical-align: top;\n    }\n\n    .dataframe thead th {\n        text-align: right;\n    }\n</style>\n<table border=\"1\" class=\"dataframe\">\n  <thead>\n    <tr style=\"text-align: right;\">\n      <th></th>\n      <th>Borough</th>\n      <th>Neighbourhood</th>\n    </tr>\n    <tr>\n      <th>Postcode</th>\n      <th></th>\n      <th></th>\n    </tr>\n  </thead>\n  <tbody>\n    <tr>\n      <th>M3A</th>\n      <td>North York</td>\n      <td>Parkwoods</td>\n    </tr>\n    <tr>\n      <th>M4A</th>\n      <td>North York</td>\n      <td>Victoria Village</td>\n    </tr>\n    <tr>\n      <th>M5A</th>\n      <td>Downtown Toronto</td>\n      <td>Harbourfront</td>\n    </tr>\n    <tr>\n      <th>M6A</th>\n      <td>North York</td>\n      <td>Lawrence Heights</td>\n    </tr>\n    <tr>\n      <th>M7A</th>\n      <td>Queen's Park</td>\n      <td>Not assigned</td>\n    </tr>\n  </tbody>\n</table>\n</div>", 
                        "text/plain": "                   Borough     Neighbourhood\nPostcode                                    \nM3A             North York         Parkwoods\nM4A             North York  Victoria Village\nM5A       Downtown Toronto      Harbourfront\nM6A             North York  Lawrence Heights\nM7A           Queen's Park      Not assigned"
                    }, 
                    "output_type": "execute_result"
                }
            ], 
            "source": "# How are we doing so far?\ndf_Postcodes.head()"
        }, 
        {
            "source": "Only process the cells that have an assigned borough. Ignore cells with a borough that is Not assigned.\n\nMore than one neighborhood can exist in one postal code area. For example, in the table on the Wikipedia page, you will notice that M5A is listed twice and has two neighborhoods: Harbourfront and Regent Park. These two rows will be combined into one row with the neighborhoods separated with a comma as shown in row 11 in the above table.\n\nIf a cell has a borough but a Not assigned neighborhood, then the neighborhood will be the same as the borough. So for the 9th cell in the table on the Wikipedia page, the value of the Borough and the Neighborhood columns will be Queen's Park.", 
            "cell_type": "markdown", 
            "metadata": {}
        }, 
        {
            "execution_count": 6, 
            "cell_type": "code", 
            "metadata": {}, 
            "outputs": [], 
            "source": "# Loop the raw dataframe and replace the unassigned neighbourhoud to the corresponding borough\nfor index, row in df[df.Neighbourhood == 'Not assigned'].iterrows():\n    df.iloc[index, df.columns.get_loc('Neighbourhood')] = df.iloc[index, df.columns.get_loc('Borough')]\n\n# Loop the raw dataframe and add the neighbourhoods from duplicate postalcodes as a string value to the Postacode dataframe\nfor index, row in df[df.freq > 1].iterrows():\n    df_Postcodes.loc[row.Postcode]['Neighbourhood'] = str(df.loc[df['Postcode'] == row.Postcode]['Neighbourhood'].to_string(header=False, index=False)).replace('\\n', ',')\n"
        }, 
        {
            "execution_count": 7, 
            "cell_type": "code", 
            "metadata": {}, 
            "outputs": [], 
            "source": "# Reset the index for the Postalcode dataframe\ndf_Postcodes = df_Postcodes.reset_index()"
        }, 
        {
            "execution_count": 8, 
            "cell_type": "code", 
            "metadata": {
                "scrolled": true
            }, 
            "outputs": [
                {
                    "execution_count": 8, 
                    "metadata": {}, 
                    "data": {
                        "text/html": "<div>\n<style scoped>\n    .dataframe tbody tr th:only-of-type {\n        vertical-align: middle;\n    }\n\n    .dataframe tbody tr th {\n        vertical-align: top;\n    }\n\n    .dataframe thead th {\n        text-align: right;\n    }\n</style>\n<table border=\"1\" class=\"dataframe\">\n  <thead>\n    <tr style=\"text-align: right;\">\n      <th></th>\n      <th>Postcode</th>\n      <th>Borough</th>\n      <th>Neighbourhood</th>\n    </tr>\n  </thead>\n  <tbody>\n    <tr>\n      <th>0</th>\n      <td>M3A</td>\n      <td>North York</td>\n      <td>Parkwoods</td>\n    </tr>\n    <tr>\n      <th>1</th>\n      <td>M4A</td>\n      <td>North York</td>\n      <td>Victoria Village</td>\n    </tr>\n    <tr>\n      <th>2</th>\n      <td>M5A</td>\n      <td>Downtown Toronto</td>\n      <td>Harbourfront, Regent Park</td>\n    </tr>\n    <tr>\n      <th>3</th>\n      <td>M6A</td>\n      <td>North York</td>\n      <td>Lawrence Heights,  Lawrence Manor</td>\n    </tr>\n    <tr>\n      <th>4</th>\n      <td>M7A</td>\n      <td>Queen's Park</td>\n      <td>Not assigned</td>\n    </tr>\n  </tbody>\n</table>\n</div>", 
                        "text/plain": "  Postcode           Borough                      Neighbourhood\n0      M3A        North York                          Parkwoods\n1      M4A        North York                   Victoria Village\n2      M5A  Downtown Toronto          Harbourfront, Regent Park\n3      M6A        North York  Lawrence Heights,  Lawrence Manor\n4      M7A      Queen's Park                       Not assigned"
                    }, 
                    "output_type": "execute_result"
                }
            ], 
            "source": "# Show the cleaned dataframe head\ndf_Postcodes.head()"
        }, 
        {
            "source": "In the last cell of your notebook, use the .shape method to print the number of rows of your dataframe.", 
            "cell_type": "markdown", 
            "metadata": {}
        }, 
        {
            "execution_count": 9, 
            "cell_type": "code", 
            "metadata": {}, 
            "outputs": [
                {
                    "execution_count": 9, 
                    "metadata": {}, 
                    "data": {
                        "text/plain": "(103, 3)"
                    }, 
                    "output_type": "execute_result"
                }
            ], 
            "source": "# Display the shape of the final dataframe of Toronto's Postcodes from the WikiPedia page\ndf_Postcodes.shape"
        }, 
        {
            "source": "Now Geocode the Postcode dataframe", 
            "cell_type": "markdown", 
            "metadata": {}
        }, 
        {
            "execution_count": 10, 
            "cell_type": "code", 
            "metadata": {}, 
            "outputs": [], 
            "source": "# First we install the geocode package \n#!conda install -c conda-forge geocoder"
        }, 
        {
            "execution_count": 11, 
            "cell_type": "code", 
            "metadata": {}, 
            "outputs": [], 
            "source": "# Then we import it\n#import geocoder # import geocoder"
        }, 
        {
            "execution_count": 12, 
            "cell_type": "code", 
            "metadata": {}, 
            "outputs": [
                {
                    "execution_count": 12, 
                    "metadata": {}, 
                    "data": {
                        "text/html": "<div>\n<style scoped>\n    .dataframe tbody tr th:only-of-type {\n        vertical-align: middle;\n    }\n\n    .dataframe tbody tr th {\n        vertical-align: top;\n    }\n\n    .dataframe thead th {\n        text-align: right;\n    }\n</style>\n<table border=\"1\" class=\"dataframe\">\n  <thead>\n    <tr style=\"text-align: right;\">\n      <th></th>\n      <th>Postcode</th>\n      <th>Borough</th>\n      <th>Neighbourhood</th>\n    </tr>\n  </thead>\n  <tbody>\n    <tr>\n      <th>0</th>\n      <td>M3A</td>\n      <td>North York</td>\n      <td>Parkwoods</td>\n    </tr>\n    <tr>\n      <th>1</th>\n      <td>M4A</td>\n      <td>North York</td>\n      <td>Victoria Village</td>\n    </tr>\n    <tr>\n      <th>2</th>\n      <td>M5A</td>\n      <td>Downtown Toronto</td>\n      <td>Harbourfront, Regent Park</td>\n    </tr>\n    <tr>\n      <th>3</th>\n      <td>M6A</td>\n      <td>North York</td>\n      <td>Lawrence Heights,  Lawrence Manor</td>\n    </tr>\n    <tr>\n      <th>4</th>\n      <td>M7A</td>\n      <td>Queen's Park</td>\n      <td>Not assigned</td>\n    </tr>\n  </tbody>\n</table>\n</div>", 
                        "text/plain": "  Postcode           Borough                      Neighbourhood\n0      M3A        North York                          Parkwoods\n1      M4A        North York                   Victoria Village\n2      M5A  Downtown Toronto          Harbourfront, Regent Park\n3      M6A        North York  Lawrence Heights,  Lawrence Manor\n4      M7A      Queen's Park                       Not assigned"
                    }, 
                    "output_type": "execute_result"
                }
            ], 
            "source": "df_Postcodes.head()"
        }, 
        {
            "execution_count": 13, 
            "cell_type": "code", 
            "metadata": {}, 
            "outputs": [], 
            "source": "df_Postcodes = df_Postcodes.set_index('Postcode')"
        }, 
        {
            "execution_count": 14, 
            "cell_type": "code", 
            "metadata": {}, 
            "outputs": [], 
            "source": "# Add Lat and Lng columns and set to default 0\ndf_Postcodes['Latitude'] = ''\ndf_Postcodes['Longitude'] = ''"
        }, 
        {
            "source": "As stated in the assignment the geocoder is very unreliable; no result came. So using the .csv instead.", 
            "cell_type": "markdown", 
            "metadata": {}
        }, 
        {
            "execution_count": 15, 
            "cell_type": "code", 
            "metadata": {}, 
            "outputs": [], 
            "source": "# # initialize your variable to None\n# lat_lng_coords = None\n\n# # loop until you get the coordinates\n# for index, row in df_Postcodes.iterrows():\n#     postcode = index\n#     print(postcode)\n#     while(lat_lng_coords is None):\n#         g = geocoder.google('{}, Toronto, Ontario'.format(postcode))\n#         lat_lng_coords = g.latlng\n#     print(lat_lng_coords)\n\n#     # Add the found coordinates to the Postcode dataframe\n#     df_Postcodes[postcode]['latitude'] = lat_lng_coords[0]\n#     df_Postcodes[postcode]['longitude'] = lat_lng_coords[1]"
        }, 
        {
            "execution_count": 16, 
            "cell_type": "code", 
            "metadata": {}, 
            "outputs": [], 
            "source": "csv_geocoder = pd.read_csv('https://cocl.us/Geospatial_data')\ncsv_geocoder = csv_geocoder.set_index('Postal Code')"
        }, 
        {
            "execution_count": 17, 
            "cell_type": "code", 
            "metadata": {}, 
            "outputs": [], 
            "source": "for index, row in df_Postcodes.iterrows():\n    postcode = index\n    df_Postcodes.loc[postcode]['Latitude'] = csv_geocoder.loc[postcode]['Latitude']\n    df_Postcodes.loc[postcode]['Longitude'] = csv_geocoder.loc[postcode]['Longitude']\n    "
        }, 
        {
            "execution_count": 18, 
            "cell_type": "code", 
            "metadata": {}, 
            "outputs": [
                {
                    "execution_count": 18, 
                    "metadata": {}, 
                    "data": {
                        "text/html": "<div>\n<style scoped>\n    .dataframe tbody tr th:only-of-type {\n        vertical-align: middle;\n    }\n\n    .dataframe tbody tr th {\n        vertical-align: top;\n    }\n\n    .dataframe thead th {\n        text-align: right;\n    }\n</style>\n<table border=\"1\" class=\"dataframe\">\n  <thead>\n    <tr style=\"text-align: right;\">\n      <th></th>\n      <th>Postcode</th>\n      <th>Borough</th>\n      <th>Neighbourhood</th>\n      <th>Latitude</th>\n      <th>Longitude</th>\n    </tr>\n  </thead>\n  <tbody>\n    <tr>\n      <th>0</th>\n      <td>M3A</td>\n      <td>North York</td>\n      <td>Parkwoods</td>\n      <td>43.7533</td>\n      <td>-79.3297</td>\n    </tr>\n    <tr>\n      <th>1</th>\n      <td>M4A</td>\n      <td>North York</td>\n      <td>Victoria Village</td>\n      <td>43.7259</td>\n      <td>-79.3156</td>\n    </tr>\n    <tr>\n      <th>2</th>\n      <td>M5A</td>\n      <td>Downtown Toronto</td>\n      <td>Harbourfront, Regent Park</td>\n      <td>43.6543</td>\n      <td>-79.3606</td>\n    </tr>\n    <tr>\n      <th>3</th>\n      <td>M6A</td>\n      <td>North York</td>\n      <td>Lawrence Heights,  Lawrence Manor</td>\n      <td>43.7185</td>\n      <td>-79.4648</td>\n    </tr>\n    <tr>\n      <th>4</th>\n      <td>M7A</td>\n      <td>Queen's Park</td>\n      <td>Not assigned</td>\n      <td>43.6623</td>\n      <td>-79.3895</td>\n    </tr>\n    <tr>\n      <th>5</th>\n      <td>M9A</td>\n      <td>Etobicoke</td>\n      <td>Islington Avenue</td>\n      <td>43.6679</td>\n      <td>-79.5322</td>\n    </tr>\n    <tr>\n      <th>6</th>\n      <td>M1B</td>\n      <td>Scarborough</td>\n      <td>Rouge,Malvern</td>\n      <td>43.8067</td>\n      <td>-79.1944</td>\n    </tr>\n    <tr>\n      <th>7</th>\n      <td>M3B</td>\n      <td>North York</td>\n      <td>Don Mills North</td>\n      <td>43.7459</td>\n      <td>-79.3522</td>\n    </tr>\n    <tr>\n      <th>8</th>\n      <td>M4B</td>\n      <td>East York</td>\n      <td>Woodbine Gardens,   Parkview Hill</td>\n      <td>43.7064</td>\n      <td>-79.3099</td>\n    </tr>\n    <tr>\n      <th>9</th>\n      <td>M5B</td>\n      <td>Downtown Toronto</td>\n      <td>Ryerson,Garden District</td>\n      <td>43.6572</td>\n      <td>-79.3789</td>\n    </tr>\n    <tr>\n      <th>10</th>\n      <td>M6B</td>\n      <td>North York</td>\n      <td>Glencairn</td>\n      <td>43.7096</td>\n      <td>-79.4451</td>\n    </tr>\n    <tr>\n      <th>11</th>\n      <td>M9B</td>\n      <td>Etobicoke</td>\n      <td>Cloverdale,       Islington,    Martin Grove,P...</td>\n      <td>43.6509</td>\n      <td>-79.5547</td>\n    </tr>\n    <tr>\n      <th>12</th>\n      <td>M1C</td>\n      <td>Scarborough</td>\n      <td>Highland Creek,    Rouge Hill,    Port Union</td>\n      <td>43.7845</td>\n      <td>-79.1605</td>\n    </tr>\n    <tr>\n      <th>13</th>\n      <td>M3C</td>\n      <td>North York</td>\n      <td>Flemingdon Park,Don Mills South</td>\n      <td>43.7259</td>\n      <td>-79.3409</td>\n    </tr>\n    <tr>\n      <th>14</th>\n      <td>M4C</td>\n      <td>East York</td>\n      <td>Woodbine Heights</td>\n      <td>43.6953</td>\n      <td>-79.3184</td>\n    </tr>\n    <tr>\n      <th>15</th>\n      <td>M5C</td>\n      <td>Downtown Toronto</td>\n      <td>St. James Town</td>\n      <td>43.6515</td>\n      <td>-79.3754</td>\n    </tr>\n    <tr>\n      <th>16</th>\n      <td>M6C</td>\n      <td>York</td>\n      <td>Humewood-Cedarvale</td>\n      <td>43.6938</td>\n      <td>-79.4282</td>\n    </tr>\n    <tr>\n      <th>17</th>\n      <td>M9C</td>\n      <td>Etobicoke</td>\n      <td>Bloordale Gardens,         Eringate,    Markla...</td>\n      <td>43.6435</td>\n      <td>-79.5772</td>\n    </tr>\n    <tr>\n      <th>18</th>\n      <td>M1E</td>\n      <td>Scarborough</td>\n      <td>Guildwood,Morningside,  West Hill</td>\n      <td>43.7636</td>\n      <td>-79.1887</td>\n    </tr>\n    <tr>\n      <th>19</th>\n      <td>M4E</td>\n      <td>East Toronto</td>\n      <td>The Beaches</td>\n      <td>43.6764</td>\n      <td>-79.293</td>\n    </tr>\n    <tr>\n      <th>20</th>\n      <td>M5E</td>\n      <td>Downtown Toronto</td>\n      <td>Berczy Park</td>\n      <td>43.6448</td>\n      <td>-79.3733</td>\n    </tr>\n    <tr>\n      <th>21</th>\n      <td>M6E</td>\n      <td>York</td>\n      <td>Caledonia-Fairbanks</td>\n      <td>43.689</td>\n      <td>-79.4535</td>\n    </tr>\n    <tr>\n      <th>22</th>\n      <td>M1G</td>\n      <td>Scarborough</td>\n      <td>Woburn</td>\n      <td>43.771</td>\n      <td>-79.2169</td>\n    </tr>\n    <tr>\n      <th>23</th>\n      <td>M4G</td>\n      <td>East York</td>\n      <td>Leaside</td>\n      <td>43.7091</td>\n      <td>-79.3635</td>\n    </tr>\n    <tr>\n      <th>24</th>\n      <td>M5G</td>\n      <td>Downtown Toronto</td>\n      <td>Central Bay Street</td>\n      <td>43.658</td>\n      <td>-79.3874</td>\n    </tr>\n    <tr>\n      <th>25</th>\n      <td>M6G</td>\n      <td>Downtown Toronto</td>\n      <td>Christie</td>\n      <td>43.6695</td>\n      <td>-79.4226</td>\n    </tr>\n    <tr>\n      <th>26</th>\n      <td>M1H</td>\n      <td>Scarborough</td>\n      <td>Cedarbrae</td>\n      <td>43.7731</td>\n      <td>-79.2395</td>\n    </tr>\n    <tr>\n      <th>27</th>\n      <td>M2H</td>\n      <td>North York</td>\n      <td>Hillcrest Village</td>\n      <td>43.8038</td>\n      <td>-79.3635</td>\n    </tr>\n    <tr>\n      <th>28</th>\n      <td>M3H</td>\n      <td>North York</td>\n      <td>Bathurst Manor,Downsview North, Wilson Heights</td>\n      <td>43.7543</td>\n      <td>-79.4423</td>\n    </tr>\n    <tr>\n      <th>29</th>\n      <td>M4H</td>\n      <td>East York</td>\n      <td>Thorncliffe Park</td>\n      <td>43.7054</td>\n      <td>-79.3494</td>\n    </tr>\n    <tr>\n      <th>...</th>\n      <td>...</td>\n      <td>...</td>\n      <td>...</td>\n      <td>...</td>\n      <td>...</td>\n    </tr>\n    <tr>\n      <th>73</th>\n      <td>M4R</td>\n      <td>Central Toronto</td>\n      <td>North Toronto West</td>\n      <td>43.7154</td>\n      <td>-79.4057</td>\n    </tr>\n    <tr>\n      <th>74</th>\n      <td>M5R</td>\n      <td>Central Toronto</td>\n      <td>The Annex,North Midtown,    Yorkville</td>\n      <td>43.6727</td>\n      <td>-79.4057</td>\n    </tr>\n    <tr>\n      <th>75</th>\n      <td>M6R</td>\n      <td>West Toronto</td>\n      <td>Parkdale,Roncesvalles</td>\n      <td>43.649</td>\n      <td>-79.4563</td>\n    </tr>\n    <tr>\n      <th>76</th>\n      <td>M7R</td>\n      <td>Mississauga</td>\n      <td>Canada Post Gateway Processing Centre</td>\n      <td>43.637</td>\n      <td>-79.6158</td>\n    </tr>\n    <tr>\n      <th>77</th>\n      <td>M9R</td>\n      <td>Etobicoke</td>\n      <td>Kingsview Village,Martin Grove Gardens,    Ric...</td>\n      <td>43.6889</td>\n      <td>-79.5547</td>\n    </tr>\n    <tr>\n      <th>78</th>\n      <td>M1S</td>\n      <td>Scarborough</td>\n      <td>Agincourt</td>\n      <td>43.7942</td>\n      <td>-79.262</td>\n    </tr>\n    <tr>\n      <th>79</th>\n      <td>M4S</td>\n      <td>Central Toronto</td>\n      <td>Davisville</td>\n      <td>43.7043</td>\n      <td>-79.3888</td>\n    </tr>\n    <tr>\n      <th>80</th>\n      <td>M5S</td>\n      <td>Downtown Toronto</td>\n      <td>Harbord,University of Toronto</td>\n      <td>43.6627</td>\n      <td>-79.4</td>\n    </tr>\n    <tr>\n      <th>81</th>\n      <td>M6S</td>\n      <td>West Toronto</td>\n      <td>Runnymede,  Swansea</td>\n      <td>43.6516</td>\n      <td>-79.4844</td>\n    </tr>\n    <tr>\n      <th>82</th>\n      <td>M1T</td>\n      <td>Scarborough</td>\n      <td>Clarks Corners,      Sullivan, Tam O'Shanter</td>\n      <td>43.7816</td>\n      <td>-79.3043</td>\n    </tr>\n    <tr>\n      <th>83</th>\n      <td>M4T</td>\n      <td>Central Toronto</td>\n      <td>Moore Park,Summerhill East</td>\n      <td>43.6896</td>\n      <td>-79.3832</td>\n    </tr>\n    <tr>\n      <th>84</th>\n      <td>M5T</td>\n      <td>Downtown Toronto</td>\n      <td>Chinatown,      Grange Park,Kensington Market</td>\n      <td>43.6532</td>\n      <td>-79.4</td>\n    </tr>\n    <tr>\n      <th>85</th>\n      <td>M1V</td>\n      <td>Scarborough</td>\n      <td>Agincourt North,L'Amoreaux East,       Millike...</td>\n      <td>43.8153</td>\n      <td>-79.2846</td>\n    </tr>\n    <tr>\n      <th>86</th>\n      <td>M4V</td>\n      <td>Central Toronto</td>\n      <td>Deer Park, Forest Hill SE,      Rathnelly,    ...</td>\n      <td>43.6864</td>\n      <td>-79.4</td>\n    </tr>\n    <tr>\n      <th>87</th>\n      <td>M5V</td>\n      <td>Downtown Toronto</td>\n      <td>CN Tower,    Bathurst Quay,   Island airport,H...</td>\n      <td>43.6289</td>\n      <td>-79.3944</td>\n    </tr>\n    <tr>\n      <th>88</th>\n      <td>M8V</td>\n      <td>Etobicoke</td>\n      <td>Humber Bay Shores,     Mimico South,      New ...</td>\n      <td>43.6056</td>\n      <td>-79.5013</td>\n    </tr>\n    <tr>\n      <th>89</th>\n      <td>M9V</td>\n      <td>Etobicoke</td>\n      <td>Albion Gardens,Beaumond Heights,      Humberga...</td>\n      <td>43.7394</td>\n      <td>-79.5884</td>\n    </tr>\n    <tr>\n      <th>90</th>\n      <td>M1W</td>\n      <td>Scarborough</td>\n      <td>L'Amoreaux West</td>\n      <td>43.7995</td>\n      <td>-79.3184</td>\n    </tr>\n    <tr>\n      <th>91</th>\n      <td>M4W</td>\n      <td>Downtown Toronto</td>\n      <td>Rosedale</td>\n      <td>43.6796</td>\n      <td>-79.3775</td>\n    </tr>\n    <tr>\n      <th>92</th>\n      <td>M5W</td>\n      <td>Downtown Toronto</td>\n      <td>Stn A PO Boxes 25 The Esplanade</td>\n      <td>43.6464</td>\n      <td>-79.3748</td>\n    </tr>\n    <tr>\n      <th>93</th>\n      <td>M8W</td>\n      <td>Etobicoke</td>\n      <td>Alderwood,Long Branch</td>\n      <td>43.6024</td>\n      <td>-79.5435</td>\n    </tr>\n    <tr>\n      <th>94</th>\n      <td>M9W</td>\n      <td>Etobicoke</td>\n      <td>Northwest</td>\n      <td>43.7067</td>\n      <td>-79.5941</td>\n    </tr>\n    <tr>\n      <th>95</th>\n      <td>M1X</td>\n      <td>Scarborough</td>\n      <td>Upper Rouge</td>\n      <td>43.8361</td>\n      <td>-79.2056</td>\n    </tr>\n    <tr>\n      <th>96</th>\n      <td>M4X</td>\n      <td>Downtown Toronto</td>\n      <td>Cabbagetown,St. James Town</td>\n      <td>43.668</td>\n      <td>-79.3677</td>\n    </tr>\n    <tr>\n      <th>97</th>\n      <td>M5X</td>\n      <td>Downtown Toronto</td>\n      <td>First Canadian Place,    Underground city</td>\n      <td>43.6484</td>\n      <td>-79.3823</td>\n    </tr>\n    <tr>\n      <th>98</th>\n      <td>M8X</td>\n      <td>Etobicoke</td>\n      <td>The Kingsway,Montgomery Road, Old Mill North</td>\n      <td>43.6537</td>\n      <td>-79.5069</td>\n    </tr>\n    <tr>\n      <th>99</th>\n      <td>M4Y</td>\n      <td>Downtown Toronto</td>\n      <td>Church and Wellesley</td>\n      <td>43.6659</td>\n      <td>-79.3832</td>\n    </tr>\n    <tr>\n      <th>100</th>\n      <td>M7Y</td>\n      <td>East Toronto</td>\n      <td>Business Reply Mail Processing Centre 969 Eastern</td>\n      <td>43.6627</td>\n      <td>-79.3216</td>\n    </tr>\n    <tr>\n      <th>101</th>\n      <td>M8Y</td>\n      <td>Etobicoke</td>\n      <td>Humber Bay,        King's Mill Park,Kingsway P...</td>\n      <td>43.6363</td>\n      <td>-79.4985</td>\n    </tr>\n    <tr>\n      <th>102</th>\n      <td>M8Z</td>\n      <td>Etobicoke</td>\n      <td>Kingsway Park South West,               Mimico...</td>\n      <td>43.6288</td>\n      <td>-79.521</td>\n    </tr>\n  </tbody>\n</table>\n<p>103 rows \u00d7 5 columns</p>\n</div>", 
                        "text/plain": "    Postcode           Borough  \\\n0        M3A        North York   \n1        M4A        North York   \n2        M5A  Downtown Toronto   \n3        M6A        North York   \n4        M7A      Queen's Park   \n5        M9A         Etobicoke   \n6        M1B       Scarborough   \n7        M3B        North York   \n8        M4B         East York   \n9        M5B  Downtown Toronto   \n10       M6B        North York   \n11       M9B         Etobicoke   \n12       M1C       Scarborough   \n13       M3C        North York   \n14       M4C         East York   \n15       M5C  Downtown Toronto   \n16       M6C              York   \n17       M9C         Etobicoke   \n18       M1E       Scarborough   \n19       M4E      East Toronto   \n20       M5E  Downtown Toronto   \n21       M6E              York   \n22       M1G       Scarborough   \n23       M4G         East York   \n24       M5G  Downtown Toronto   \n25       M6G  Downtown Toronto   \n26       M1H       Scarborough   \n27       M2H        North York   \n28       M3H        North York   \n29       M4H         East York   \n..       ...               ...   \n73       M4R   Central Toronto   \n74       M5R   Central Toronto   \n75       M6R      West Toronto   \n76       M7R       Mississauga   \n77       M9R         Etobicoke   \n78       M1S       Scarborough   \n79       M4S   Central Toronto   \n80       M5S  Downtown Toronto   \n81       M6S      West Toronto   \n82       M1T       Scarborough   \n83       M4T   Central Toronto   \n84       M5T  Downtown Toronto   \n85       M1V       Scarborough   \n86       M4V   Central Toronto   \n87       M5V  Downtown Toronto   \n88       M8V         Etobicoke   \n89       M9V         Etobicoke   \n90       M1W       Scarborough   \n91       M4W  Downtown Toronto   \n92       M5W  Downtown Toronto   \n93       M8W         Etobicoke   \n94       M9W         Etobicoke   \n95       M1X       Scarborough   \n96       M4X  Downtown Toronto   \n97       M5X  Downtown Toronto   \n98       M8X         Etobicoke   \n99       M4Y  Downtown Toronto   \n100      M7Y      East Toronto   \n101      M8Y         Etobicoke   \n102      M8Z         Etobicoke   \n\n                                         Neighbourhood Latitude Longitude  \n0                                            Parkwoods  43.7533  -79.3297  \n1                                     Victoria Village  43.7259  -79.3156  \n2                            Harbourfront, Regent Park  43.6543  -79.3606  \n3                    Lawrence Heights,  Lawrence Manor  43.7185  -79.4648  \n4                                         Not assigned  43.6623  -79.3895  \n5                                     Islington Avenue  43.6679  -79.5322  \n6                                        Rouge,Malvern  43.8067  -79.1944  \n7                                      Don Mills North  43.7459  -79.3522  \n8                    Woodbine Gardens,   Parkview Hill  43.7064  -79.3099  \n9                              Ryerson,Garden District  43.6572  -79.3789  \n10                                           Glencairn  43.7096  -79.4451  \n11   Cloverdale,       Islington,    Martin Grove,P...  43.6509  -79.5547  \n12        Highland Creek,    Rouge Hill,    Port Union  43.7845  -79.1605  \n13                     Flemingdon Park,Don Mills South  43.7259  -79.3409  \n14                                    Woodbine Heights  43.6953  -79.3184  \n15                                      St. James Town  43.6515  -79.3754  \n16                                  Humewood-Cedarvale  43.6938  -79.4282  \n17   Bloordale Gardens,         Eringate,    Markla...  43.6435  -79.5772  \n18                   Guildwood,Morningside,  West Hill  43.7636  -79.1887  \n19                                         The Beaches  43.6764   -79.293  \n20                                         Berczy Park  43.6448  -79.3733  \n21                                 Caledonia-Fairbanks   43.689  -79.4535  \n22                                              Woburn   43.771  -79.2169  \n23                                             Leaside  43.7091  -79.3635  \n24                                  Central Bay Street   43.658  -79.3874  \n25                                            Christie  43.6695  -79.4226  \n26                                           Cedarbrae  43.7731  -79.2395  \n27                                   Hillcrest Village  43.8038  -79.3635  \n28      Bathurst Manor,Downsview North, Wilson Heights  43.7543  -79.4423  \n29                                    Thorncliffe Park  43.7054  -79.3494  \n..                                                 ...      ...       ...  \n73                                  North Toronto West  43.7154  -79.4057  \n74               The Annex,North Midtown,    Yorkville  43.6727  -79.4057  \n75                               Parkdale,Roncesvalles   43.649  -79.4563  \n76               Canada Post Gateway Processing Centre   43.637  -79.6158  \n77   Kingsview Village,Martin Grove Gardens,    Ric...  43.6889  -79.5547  \n78                                           Agincourt  43.7942   -79.262  \n79                                          Davisville  43.7043  -79.3888  \n80                       Harbord,University of Toronto  43.6627     -79.4  \n81                                 Runnymede,  Swansea  43.6516  -79.4844  \n82        Clarks Corners,      Sullivan, Tam O'Shanter  43.7816  -79.3043  \n83                          Moore Park,Summerhill East  43.6896  -79.3832  \n84       Chinatown,      Grange Park,Kensington Market  43.6532     -79.4  \n85   Agincourt North,L'Amoreaux East,       Millike...  43.8153  -79.2846  \n86   Deer Park, Forest Hill SE,      Rathnelly,    ...  43.6864     -79.4  \n87   CN Tower,    Bathurst Quay,   Island airport,H...  43.6289  -79.3944  \n88   Humber Bay Shores,     Mimico South,      New ...  43.6056  -79.5013  \n89   Albion Gardens,Beaumond Heights,      Humberga...  43.7394  -79.5884  \n90                                     L'Amoreaux West  43.7995  -79.3184  \n91                                            Rosedale  43.6796  -79.3775  \n92                     Stn A PO Boxes 25 The Esplanade  43.6464  -79.3748  \n93                               Alderwood,Long Branch  43.6024  -79.5435  \n94                                           Northwest  43.7067  -79.5941  \n95                                         Upper Rouge  43.8361  -79.2056  \n96                          Cabbagetown,St. James Town   43.668  -79.3677  \n97           First Canadian Place,    Underground city  43.6484  -79.3823  \n98        The Kingsway,Montgomery Road, Old Mill North  43.6537  -79.5069  \n99                                Church and Wellesley  43.6659  -79.3832  \n100  Business Reply Mail Processing Centre 969 Eastern  43.6627  -79.3216  \n101  Humber Bay,        King's Mill Park,Kingsway P...  43.6363  -79.4985  \n102  Kingsway Park South West,               Mimico...  43.6288   -79.521  \n\n[103 rows x 5 columns]"
                    }, 
                    "output_type": "execute_result"
                }
            ], 
            "source": "df_Postcodes = df_Postcodes.reset_index()\ndf_Postcodes"
        }, 
        {
            "source": "Import libraries", 
            "cell_type": "markdown", 
            "metadata": {}
        }
    ], 
    "metadata": {
        "kernelspec": {
            "display_name": "Python 3.5", 
            "name": "python3", 
            "language": "python"
        }, 
        "language_info": {
            "mimetype": "text/x-python", 
            "nbconvert_exporter": "python", 
            "version": "3.5.5", 
            "name": "python", 
            "file_extension": ".py", 
            "pygments_lexer": "ipython3", 
            "codemirror_mode": {
                "version": 3, 
                "name": "ipython"
            }
        }
    }, 
    "nbformat": 4
}